{
 "cells": [
  {
   "cell_type": "code",
   "execution_count": 17,
   "id": "e6869255-6139-4f8f-a378-30c2ed598f8e",
   "metadata": {},
   "outputs": [],
   "source": [
    "import pandas as pd\n",
    "import numpy as np\n",
    "from sklearn.metrics import roc_auc_score\n",
    "from scipy.optimize import brentq\n",
    "from scipy.interpolate import interp1d\n",
    "from sklearn.metrics import roc_curve\n",
    "\n",
    "cut_ = pd.DataFrame({'val': [\"2.5\", \"3.5\", \"1.5\", \"1.1\", \"2.4\", \"1.6\", \"1.9\", \"2.7\", \"1.2\", \"1.5\", \"2.1\", \"1.4\", \"1.8\", \"3.5\", \"2.5\", \"2.4\"],\n",
    "                     'ref': [1, 0, 1, 0, 0, 0, 0, 1, 1, 1, 0, 0, 1, 1, 0, 1]})\n",
    "\n",
    "cut_['val'] = pd.to_numeric(cut_['val'])\n",
    "y_true = cut_['ref']\n",
    "y_score = cut_['val']\n",
    "roc_auc = roc_auc_score(y_true, y_score)\n",
    "\n",
    "fpr, tpr, thresholds = roc_curve(y_true, y_score)\n",
    "idx = np.argmax(tpr - fpr)\n",
    "optimal_threshold = thresholds[idx]\n",
    "optimal_point = (fpr[idx], tpr[idx])\n"
   ]
  },
  {
   "cell_type": "code",
   "execution_count": 14,
   "id": "4795bb8e-fe40-4150-a25a-8f0043c89ca6",
   "metadata": {},
   "outputs": [
    {
     "data": {
      "text/plain": [
       "array([4.5, 3.5, 2.7, 2.4, 1.9, 1.8, 1.6, 1.5, 1.4, 1.2, 1.1])"
      ]
     },
     "execution_count": 14,
     "metadata": {},
     "output_type": "execute_result"
    }
   ],
   "source": [
    "thresholds"
   ]
  },
  {
   "cell_type": "code",
   "execution_count": 15,
   "id": "3916273f-69b7-4de9-9173-ccc794b8a2a6",
   "metadata": {},
   "outputs": [
    {
     "data": {
      "text/plain": [
       "2.7"
      ]
     },
     "execution_count": 15,
     "metadata": {},
     "output_type": "execute_result"
    }
   ],
   "source": [
    "optimal_threshold"
   ]
  },
  {
   "cell_type": "code",
   "execution_count": 12,
   "id": "93d3b7a5-d1c8-4322-93fb-51983b27946a",
   "metadata": {},
   "outputs": [
    {
     "data": {
      "text/plain": [
       "0     2.5\n",
       "1     3.5\n",
       "2     1.5\n",
       "3     1.1\n",
       "4     2.4\n",
       "5     1.6\n",
       "6     1.9\n",
       "7     2.7\n",
       "8     1.2\n",
       "9     1.5\n",
       "10    2.1\n",
       "11    1.4\n",
       "12    1.8\n",
       "13    3.5\n",
       "14    2.5\n",
       "15    2.4\n",
       "Name: val, dtype: float64"
      ]
     },
     "execution_count": 12,
     "metadata": {},
     "output_type": "execute_result"
    }
   ],
   "source": [
    "y_score"
   ]
  }
 ],
 "metadata": {
  "kernelspec": {
   "display_name": "Python 3 (ipykernel)",
   "language": "python",
   "name": "python3"
  },
  "language_info": {
   "codemirror_mode": {
    "name": "ipython",
    "version": 3
   },
   "file_extension": ".py",
   "mimetype": "text/x-python",
   "name": "python",
   "nbconvert_exporter": "python",
   "pygments_lexer": "ipython3",
   "version": "3.8.16"
  }
 },
 "nbformat": 4,
 "nbformat_minor": 5
}
